{
 "cells": [
  {
   "cell_type": "code",
   "execution_count": 69,
   "metadata": {},
   "outputs": [],
   "source": [
    "compscore = 0\n",
    "playerscore = 0"
   ]
  },
  {
   "cell_type": "code",
   "execution_count": 76,
   "metadata": {},
   "outputs": [
    {
     "name": "stdout",
     "output_type": "stream",
     "text": [
      "Play rock, paper, scissors. Give me your choice: paper\n",
      "rock\n",
      "do you still want to play? e\n"
     ]
    }
   ],
   "source": [
    "import random\n",
    "answer1 = input(\"Play rock, paper, scissors. Give me your choice: \")\n",
    "companswer = ['rock','paper', 'scissors'] \n",
    "companswer = random.choice(companswer)\n",
    "print(companswer)\n",
    "answer2 = input(\"do you still want to play? \")\n"
   ]
  },
  {
   "cell_type": "code",
   "execution_count": 77,
   "metadata": {},
   "outputs": [
    {
     "name": "stdout",
     "output_type": "stream",
     "text": [
      "You Win\n",
      "Your answer paper\n",
      "My answer rock\n",
      "Your score 1\n"
     ]
    }
   ],
   "source": [
    "while answer2 != \"no\":\n",
    "\n",
    "    if answer1 == companswer: #working\n",
    "        print(\"Tie. Let's play again\")\n",
    "        print(\"Your answer\", answer1)\n",
    "        print(\"My answer\", companswer)\n",
    "        break\n",
    "    elif answer1 == \"rock\": #working\n",
    "        if companswer == \"paper\":\n",
    "            print(\"You Lose\")\n",
    "            print(\"Your answer\", answer1)\n",
    "            print(\"My answer\", companswer)\n",
    "            compscore += 1\n",
    "            print(\"My score\", compscore)\n",
    "            break\n",
    "        elif companswer == \"scissors\":\n",
    "            print(\"You Win\")\n",
    "            print(\"Your answer\", answer1)\n",
    "            print(\"My answer\", companswer)\n",
    "            playerscore += 1\n",
    "            print(\"Your score\", playerscore)\n",
    "            break\n",
    "    elif answer1 == \"paper\": \n",
    "        if companswer == \"rock\":\n",
    "            print(\"You Win\")\n",
    "            print(\"Your answer\", answer1)\n",
    "            print(\"My answer\", companswer)\n",
    "            playerscore += 1\n",
    "            print(\"Your score\", playerscore)\n",
    "            break\n",
    "        elif companswer == \"scissors\":\n",
    "            print(\"You Lose\")\n",
    "            print(\"Your answer\", answer1)\n",
    "            print(\"My answer\", companswer)\n",
    "            compscore += 1\n",
    "            print(\"My score\", compscore)\n",
    "            break\n",
    "    elif answer1 == \"scissors\": \n",
    "        if companswer == \"rock\":\n",
    "            print(\"You Lose\")\n",
    "            print(\"Your answer\", answer1)\n",
    "            print(\"My answer\", companswer)\n",
    "            compscore += 1\n",
    "            print(\"My score\", compscore)\n",
    "            break\n",
    "        elif companswer == \"paper\": \n",
    "            print(\"You Win\")\n",
    "            print(f\"Your answer {answer1}\")\n",
    "            print(f\"My answer {companswer}\")\n",
    "            playerscore += 1\n",
    "            print(\"Your score\", playerscore)\n",
    "            break\n",
    "    else:\n",
    "        print('You provided a bad answer. Try again')\n",
    "        break\n",
    "        \n",
    "\n"
   ]
  },
  {
   "cell_type": "code",
   "execution_count": null,
   "metadata": {},
   "outputs": [],
   "source": []
  }
 ],
 "metadata": {
  "kernelspec": {
   "display_name": "Python 3",
   "language": "python",
   "name": "python3"
  },
  "language_info": {
   "codemirror_mode": {
    "name": "ipython",
    "version": 3
   },
   "file_extension": ".py",
   "mimetype": "text/x-python",
   "name": "python",
   "nbconvert_exporter": "python",
   "pygments_lexer": "ipython3",
   "version": "3.7.6"
  }
 },
 "nbformat": 4,
 "nbformat_minor": 4
}
